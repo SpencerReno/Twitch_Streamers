{
 "cells": [
  {
   "cell_type": "code",
   "execution_count": 7,
   "metadata": {},
   "outputs": [],
   "source": [
    "import pandas as pd"
   ]
  },
  {
   "cell_type": "code",
   "execution_count": 8,
   "metadata": {},
   "outputs": [],
   "source": [
    "data = pd.read_csv('Twitch_data_45_2022.csv')"
   ]
  },
  {
   "cell_type": "code",
   "execution_count": 9,
   "metadata": {},
   "outputs": [
    {
     "data": {
      "text/plain": [
       "Index(['platform', 'channel_name', 'channel_display_name', 'channel_id',\n",
       "       'hours_watched', 'peak_viewers', 'average_viewers', 'airtime_in_m',\n",
       "       'followers_gain', 'live_views', 'last_streamed_game', 'avatar_url',\n",
       "       'channel_country', 'stream_language', 'partnership_status',\n",
       "       'channel_type'],\n",
       "      dtype='object')"
      ]
     },
     "execution_count": 9,
     "metadata": {},
     "output_type": "execute_result"
    }
   ],
   "source": [
    "data.columns"
   ]
  },
  {
   "cell_type": "code",
   "execution_count": 10,
   "metadata": {},
   "outputs": [],
   "source": [
    "time_data = data[['platform','channel_id', 'channel_name','hours_watched','airtime_in_m']]\n",
    "time_data.to_csv(path_or_buf=f'D:\\\\Data_Science_Documents\\\\Twitch_Streamers\\\\data_files\\\\time_data.csv',index=False)"
   ]
  },
  {
   "cell_type": "code",
   "execution_count": 11,
   "metadata": {},
   "outputs": [],
   "source": [
    "viewership_data = data[['platform','channel_id', 'channel_name','peak_viewers', 'average_viewers','live_views',]]\n",
    "viewership_data.to_csv(path_or_buf=f'D:\\\\Data_Science_Documents\\\\Twitch_Streamers\\\\data_files\\\\views.csv',index=False)"
   ]
  },
  {
   "cell_type": "code",
   "execution_count": 12,
   "metadata": {},
   "outputs": [],
   "source": [
    "channel_data = data[['platform','channel_id', 'channel_name','followers_gain','last_streamed_game','channel_country','stream_language', 'partnership_status','channel_type']]\n",
    "channel_data.to_csv(path_or_buf=f'D:\\\\Data_Science_Documents\\\\Twitch_Streamers\\\\data_files\\\\channel.csv',index=False)"
   ]
  }
 ],
 "metadata": {
  "kernelspec": {
   "display_name": "Python 3.8.5 ('base')",
   "language": "python",
   "name": "python3"
  },
  "language_info": {
   "codemirror_mode": {
    "name": "ipython",
    "version": 3
   },
   "file_extension": ".py",
   "mimetype": "text/x-python",
   "name": "python",
   "nbconvert_exporter": "python",
   "pygments_lexer": "ipython3",
   "version": "3.8.5"
  },
  "orig_nbformat": 4,
  "vscode": {
   "interpreter": {
    "hash": "cfa738ae5ae4cbd113fff36f62c2daab72b71b275f55ab6a1ff8d1ed76467dcb"
   }
  }
 },
 "nbformat": 4,
 "nbformat_minor": 2
}
