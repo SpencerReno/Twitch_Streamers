{
 "cells": [
  {
   "cell_type": "code",
   "execution_count": 11,
   "metadata": {},
   "outputs": [],
   "source": [
    "import pandas as pd \n",
    "import seaborn as sns\n",
    "import matplotlib.pyplot as plt \n",
    "import requests\n",
    "import numpy as np\n",
    "from keys import *\n",
    "import datetime\n"
   ]
  },
  {
   "cell_type": "code",
   "execution_count": 6,
   "metadata": {},
   "outputs": [],
   "source": [
    "\n",
    "url = 'https://streamscharts.com/api/jazz/channels?platform=twitch&time=7-days'\n",
    "headers = {\n",
    "    'client-id' :stream_charts_id,\n",
    "    'Token' : stream_charts_token\n",
    "}\n",
    "resp=(requests.get(url, headers=headers).json())\n"
   ]
  },
  {
   "cell_type": "code",
   "execution_count": 7,
   "metadata": {},
   "outputs": [],
   "source": [
    "df = pd.DataFrame(columns=resp['data'][0].keys())"
   ]
  },
  {
   "cell_type": "code",
   "execution_count": 8,
   "metadata": {},
   "outputs": [],
   "source": [
    "for x in range(len(resp['data'])):\n",
    "    df =  df.append(resp['data'][x],ignore_index=True)\n"
   ]
  },
  {
   "cell_type": "code",
   "execution_count": 10,
   "metadata": {},
   "outputs": [
    {
     "data": {
      "text/html": [
       "<div>\n",
       "<style scoped>\n",
       "    .dataframe tbody tr th:only-of-type {\n",
       "        vertical-align: middle;\n",
       "    }\n",
       "\n",
       "    .dataframe tbody tr th {\n",
       "        vertical-align: top;\n",
       "    }\n",
       "\n",
       "    .dataframe thead th {\n",
       "        text-align: right;\n",
       "    }\n",
       "</style>\n",
       "<table border=\"1\" class=\"dataframe\">\n",
       "  <thead>\n",
       "    <tr style=\"text-align: right;\">\n",
       "      <th></th>\n",
       "      <th>platform</th>\n",
       "      <th>channel_name</th>\n",
       "      <th>channel_display_name</th>\n",
       "      <th>channel_id</th>\n",
       "      <th>hours_watched</th>\n",
       "      <th>peak_viewers</th>\n",
       "      <th>average_viewers</th>\n",
       "      <th>airtime_in_m</th>\n",
       "      <th>followers_gain</th>\n",
       "      <th>live_views</th>\n",
       "      <th>last_streamed_game</th>\n",
       "      <th>avatar_url</th>\n",
       "      <th>channel_country</th>\n",
       "      <th>stream_language</th>\n",
       "      <th>partnership_status</th>\n",
       "      <th>channel_type</th>\n",
       "    </tr>\n",
       "  </thead>\n",
       "  <tbody>\n",
       "    <tr>\n",
       "      <th>0</th>\n",
       "      <td>twitch</td>\n",
       "      <td>esl_csgo</td>\n",
       "      <td>ESL_CSGO</td>\n",
       "      <td>31239503</td>\n",
       "      <td>4292848</td>\n",
       "      <td>185971</td>\n",
       "      <td>27475</td>\n",
       "      <td>9375</td>\n",
       "      <td>21565</td>\n",
       "      <td>11206581</td>\n",
       "      <td>Counter-Strike: Global Offensive</td>\n",
       "      <td>https://static-cdn.jtvnw.net/jtv_user_pictures...</td>\n",
       "      <td>None</td>\n",
       "      <td>en</td>\n",
       "      <td>partner</td>\n",
       "      <td>Organization</td>\n",
       "    </tr>\n",
       "    <tr>\n",
       "      <th>1</th>\n",
       "      <td>twitch</td>\n",
       "      <td>xqc</td>\n",
       "      <td>xQc</td>\n",
       "      <td>71092938</td>\n",
       "      <td>3995899</td>\n",
       "      <td>135158</td>\n",
       "      <td>64106</td>\n",
       "      <td>3740</td>\n",
       "      <td>15028</td>\n",
       "      <td>10361418</td>\n",
       "      <td>Just Chatting</td>\n",
       "      <td>https://static-cdn.jtvnw.net/jtv_user_pictures...</td>\n",
       "      <td>CA</td>\n",
       "      <td>en</td>\n",
       "      <td>partner</td>\n",
       "      <td>Male</td>\n",
       "    </tr>\n",
       "    <tr>\n",
       "      <th>2</th>\n",
       "      <td>twitch</td>\n",
       "      <td>trymacs</td>\n",
       "      <td>Trymacs</td>\n",
       "      <td>64342766</td>\n",
       "      <td>3430674</td>\n",
       "      <td>79032</td>\n",
       "      <td>28590</td>\n",
       "      <td>7200</td>\n",
       "      <td>37057</td>\n",
       "      <td>12287893</td>\n",
       "      <td>FIFA 23</td>\n",
       "      <td>https://static-cdn.jtvnw.net/jtv_user_pictures...</td>\n",
       "      <td>DE</td>\n",
       "      <td>de</td>\n",
       "      <td>partner</td>\n",
       "      <td>Male</td>\n",
       "    </tr>\n",
       "    <tr>\n",
       "      <th>3</th>\n",
       "      <td>twitch</td>\n",
       "      <td>gaules</td>\n",
       "      <td>Gaules</td>\n",
       "      <td>181077473</td>\n",
       "      <td>3056759</td>\n",
       "      <td>85669</td>\n",
       "      <td>18341</td>\n",
       "      <td>10000</td>\n",
       "      <td>6659</td>\n",
       "      <td>4574863</td>\n",
       "      <td>Counter-Strike: Global Offensive</td>\n",
       "      <td>https://static-cdn.jtvnw.net/jtv_user_pictures...</td>\n",
       "      <td>BR</td>\n",
       "      <td>pt</td>\n",
       "      <td>partner</td>\n",
       "      <td>Male</td>\n",
       "    </tr>\n",
       "    <tr>\n",
       "      <th>4</th>\n",
       "      <td>twitch</td>\n",
       "      <td>kaicenat</td>\n",
       "      <td>KaiCenat</td>\n",
       "      <td>641972806</td>\n",
       "      <td>3007049</td>\n",
       "      <td>102335</td>\n",
       "      <td>49230</td>\n",
       "      <td>3665</td>\n",
       "      <td>82896</td>\n",
       "      <td>6966873</td>\n",
       "      <td>Just Chatting</td>\n",
       "      <td>https://static-cdn.jtvnw.net/jtv_user_pictures...</td>\n",
       "      <td>US</td>\n",
       "      <td>en</td>\n",
       "      <td>partner</td>\n",
       "      <td>Male</td>\n",
       "    </tr>\n",
       "  </tbody>\n",
       "</table>\n",
       "</div>"
      ],
      "text/plain": [
       "  platform channel_name channel_display_name channel_id hours_watched  \\\n",
       "0   twitch     esl_csgo             ESL_CSGO   31239503       4292848   \n",
       "1   twitch          xqc                  xQc   71092938       3995899   \n",
       "2   twitch      trymacs              Trymacs   64342766       3430674   \n",
       "3   twitch       gaules               Gaules  181077473       3056759   \n",
       "4   twitch     kaicenat             KaiCenat  641972806       3007049   \n",
       "\n",
       "  peak_viewers average_viewers airtime_in_m followers_gain live_views  \\\n",
       "0       185971           27475         9375          21565   11206581   \n",
       "1       135158           64106         3740          15028   10361418   \n",
       "2        79032           28590         7200          37057   12287893   \n",
       "3        85669           18341        10000           6659    4574863   \n",
       "4       102335           49230         3665          82896    6966873   \n",
       "\n",
       "                 last_streamed_game  \\\n",
       "0  Counter-Strike: Global Offensive   \n",
       "1                     Just Chatting   \n",
       "2                           FIFA 23   \n",
       "3  Counter-Strike: Global Offensive   \n",
       "4                     Just Chatting   \n",
       "\n",
       "                                          avatar_url channel_country  \\\n",
       "0  https://static-cdn.jtvnw.net/jtv_user_pictures...            None   \n",
       "1  https://static-cdn.jtvnw.net/jtv_user_pictures...              CA   \n",
       "2  https://static-cdn.jtvnw.net/jtv_user_pictures...              DE   \n",
       "3  https://static-cdn.jtvnw.net/jtv_user_pictures...              BR   \n",
       "4  https://static-cdn.jtvnw.net/jtv_user_pictures...              US   \n",
       "\n",
       "  stream_language partnership_status  channel_type  \n",
       "0              en            partner  Organization  \n",
       "1              en            partner          Male  \n",
       "2              de            partner          Male  \n",
       "3              pt            partner          Male  \n",
       "4              en            partner          Male  "
      ]
     },
     "execution_count": 10,
     "metadata": {},
     "output_type": "execute_result"
    }
   ],
   "source": [
    "df.head()"
   ]
  },
  {
   "cell_type": "code",
   "execution_count": 23,
   "metadata": {},
   "outputs": [
    {
     "data": {
      "text/plain": [
       "datetime.datetime(2022, 9, 30, 12, 50, 42, 130910)"
      ]
     },
     "execution_count": 23,
     "metadata": {},
     "output_type": "execute_result"
    }
   ],
   "source": [
    "datetime.datetime.now()"
   ]
  },
  {
   "cell_type": "code",
   "execution_count": 30,
   "metadata": {},
   "outputs": [],
   "source": [
    "week = datetime.datetime.now().isocalendar()[1]\n",
    "year= datetime.datetime.now().isocalendar()[0]"
   ]
  },
  {
   "cell_type": "code",
   "execution_count": 34,
   "metadata": {},
   "outputs": [],
   "source": [
    "df.to_csv(path_or_buf=f'D:\\\\Data_Science_Documents\\\\Twitch_Directory\\\\Weekly_Data\\\\data_files\\\\Twitch_data_{week}_{year}.csv',index=False)"
   ]
  }
 ],
 "metadata": {
  "kernelspec": {
   "display_name": "Python 3.8.5 ('base')",
   "language": "python",
   "name": "python3"
  },
  "language_info": {
   "codemirror_mode": {
    "name": "ipython",
    "version": 3
   },
   "file_extension": ".py",
   "mimetype": "text/x-python",
   "name": "python",
   "nbconvert_exporter": "python",
   "pygments_lexer": "ipython3",
   "version": "3.8.5"
  },
  "orig_nbformat": 4,
  "vscode": {
   "interpreter": {
    "hash": "cfa738ae5ae4cbd113fff36f62c2daab72b71b275f55ab6a1ff8d1ed76467dcb"
   }
  }
 },
 "nbformat": 4,
 "nbformat_minor": 2
}
